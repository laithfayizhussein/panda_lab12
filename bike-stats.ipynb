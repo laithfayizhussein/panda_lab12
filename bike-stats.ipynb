{
 "cells": [
  {
   "cell_type": "code",
   "execution_count": null,
   "source": [
    "import pandas as pd\n",
    "import numpy as np"
   ],
   "outputs": [],
   "metadata": {}
  }
 ],
 "metadata": {
  "orig_nbformat": 4,
  "language_info": {
   "name": "python",
   "version": "3.9.6"
  },
  "kernelspec": {
   "name": "python3",
   "display_name": "Python 3.9.6 64-bit ('.venv': poetry)"
  },
  "interpreter": {
   "hash": "7bff0626f8c5f05e58345d100edde09f7704c10531219a60265b4814700e60fb"
  }
 },
 "nbformat": 4,
 "nbformat_minor": 2
}